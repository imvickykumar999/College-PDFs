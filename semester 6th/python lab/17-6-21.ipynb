{
 "cells": [
  {
   "cell_type": "code",
   "execution_count": 1,
   "metadata": {},
   "outputs": [
    {
     "name": "stdout",
     "output_type": "stream",
     "text": [
      "sum= 142913828922\n"
     ]
    }
   ],
   "source": [
    "n = 2000000\n",
    "prime = [True for i in range(n+1)] \n",
    "p = 2\n",
    "while (p * p <= n):\n",
    "    if (prime[p] == True):\n",
    "        for i in range(p * p, n+1, p): \n",
    "            prime[i] = False\n",
    "    p += 1\n",
    "sum=0\n",
    "for p in range(2, n): \n",
    "    if prime[p]:\n",
    "        sum=sum+p \n",
    "print(\"sum=\", sum) "
   ]
  },
  {
   "cell_type": "code",
   "execution_count": 3,
   "metadata": {},
   "outputs": [
    {
     "name": "stdout",
     "output_type": "stream",
     "text": [
      "Sum= 4613732\n"
     ]
    }
   ],
   "source": [
    "limit = 4000000 \n",
    "if (limit < 2):\n",
    "    print(\"Sum=0\")\n",
    "\n",
    "else:\n",
    "    ef1 = 0\n",
    "    ef2 = 2\n",
    "    sm= ef1 + ef2\n",
    "\n",
    "while (ef2 <= limit):\n",
    "    ef3 = 4 * ef2 + ef1 \n",
    "    \n",
    "    if (ef3 > limit):\n",
    "        break \n",
    "    \n",
    "    ef1 = ef2 \n",
    "    ef2 = ef3\n",
    "    sm = sm + ef2 \n",
    "print(\"Sum=\",sm)\n"
   ]
  },
  {
   "cell_type": "code",
   "execution_count": null,
   "metadata": {},
   "outputs": [],
   "source": []
  }
 ],
 "metadata": {
  "kernelspec": {
   "display_name": "Python 3",
   "language": "python",
   "name": "python3"
  },
  "language_info": {
   "codemirror_mode": {
    "name": "ipython",
    "version": 3
   },
   "file_extension": ".py",
   "mimetype": "text/x-python",
   "name": "python",
   "nbconvert_exporter": "python",
   "pygments_lexer": "ipython3",
   "version": "3.8.3"
  }
 },
 "nbformat": 4,
 "nbformat_minor": 4
}
