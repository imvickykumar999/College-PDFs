{
 "cells": [
  {
   "cell_type": "code",
   "execution_count": 5,
   "metadata": {},
   "outputs": [
    {
     "data": {
      "text/plain": [
       "{'M': 1,\n",
       " 'y': 2,\n",
       " ' ': 4,\n",
       " 'N': 1,\n",
       " 'a': 2,\n",
       " 'm': 2,\n",
       " 'e': 1,\n",
       " 'i': 2,\n",
       " 's': 1,\n",
       " 'V': 1,\n",
       " 'c': 1,\n",
       " 'k': 1,\n",
       " 'K': 1,\n",
       " 'u': 1,\n",
       " 'r': 1,\n",
       " '.': 1}"
      ]
     },
     "execution_count": 5,
     "metadata": {},
     "output_type": "execute_result"
    }
   ],
   "source": [
    "def count_chars(string):\n",
    "    res = {}\n",
    "    \n",
    "    for char in string:\n",
    "        if res.get(char):\n",
    "            res[char] += 1\n",
    "        else:\n",
    "            res[char] = 1\n",
    "            \n",
    "    return res\n",
    "\n",
    "count_chars(\"My Name is Vicky Kumar.\")"
   ]
  },
  {
   "cell_type": "code",
   "execution_count": null,
   "metadata": {},
   "outputs": [],
   "source": []
  }
 ],
 "metadata": {
  "kernelspec": {
   "display_name": "Python 3",
   "language": "python",
   "name": "python3"
  },
  "language_info": {
   "codemirror_mode": {
    "name": "ipython",
    "version": 3
   },
   "file_extension": ".py",
   "mimetype": "text/x-python",
   "name": "python",
   "nbconvert_exporter": "python",
   "pygments_lexer": "ipython3",
   "version": "3.8.3"
  }
 },
 "nbformat": 4,
 "nbformat_minor": 4
}
