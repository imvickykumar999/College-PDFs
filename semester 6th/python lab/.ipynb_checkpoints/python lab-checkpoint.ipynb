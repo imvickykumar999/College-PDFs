{
 "cells": [
  {
   "cell_type": "markdown",
   "metadata": {},
   "source": [
    "# experiment 1"
   ]
  },
  {
   "cell_type": "code",
   "execution_count": 1,
   "metadata": {},
   "outputs": [
    {
     "name": "stdout",
     "output_type": "stream",
     "text": [
      "Type of a:  <class 'int'>\n",
      "\n",
      "Type of b:  <class 'float'>\n",
      "\n",
      "Type of c:  <class 'complex'>\n"
     ]
    }
   ],
   "source": [
    "# Online Python - IDE, Editor, Compiler, Interpreter\n",
    "a = 5\n",
    "print(\"Type of a: \", type(a))\n",
    "b = 5.0\n",
    "print(\"\\nType of b: \", type(b)) \n",
    "c = 2 + 4j\n",
    "print(\"\\nType of c: \", type(c))"
   ]
  },
  {
   "cell_type": "markdown",
   "metadata": {},
   "source": [
    "# experiment 2"
   ]
  },
  {
   "cell_type": "code",
   "execution_count": 2,
   "metadata": {},
   "outputs": [
    {
     "name": "stdout",
     "output_type": "stream",
     "text": [
      "Enter 1st number: 23\n",
      "Enter 2nd number: 43\n",
      "Sum of 23 and 43 is 66\n"
     ]
    }
   ],
   "source": [
    "# Online Python - IDE, Editor, Compiler, Interpreter\n",
    "\n",
    "def sum(a, b):\n",
    "    return (a + b)\n",
    "\n",
    "a = int(input('Enter 1st number: '))\n",
    "b = int(input('Enter 2nd number: '))\n",
    "\n",
    "print(f'Sum of {a} and {b} is {sum(a, b)}')\n"
   ]
  },
  {
   "cell_type": "markdown",
   "metadata": {},
   "source": [
    "# experiment 3"
   ]
  },
  {
   "cell_type": "code",
   "execution_count": 9,
   "metadata": {},
   "outputs": [
    {
     "name": "stdout",
     "output_type": "stream",
     "text": [
      "Decimal equivalent value for 1/ 1  is 1.0\n",
      "Decimal equivalent value for 1/ 2  is 0.5\n",
      "Decimal equivalent value for 1/ 3  is 0.3333333333333333\n",
      "Decimal equivalent value for 1/ 4  is 0.25\n",
      "Decimal equivalent value for 1/ 5  is 0.2\n",
      "Decimal equivalent value for 1/ 6  is 0.16666666666666666\n",
      "Decimal equivalent value for 1/ 7  is 0.14285714285714285\n",
      "Decimal equivalent value for 1/ 8  is 0.125\n",
      "Decimal equivalent value for 1/ 9  is 0.1111111111111111\n",
      "Decimal equivalent value for 1/ 10  is 0.1\n"
     ]
    }
   ],
   "source": [
    "for i in range(1,11):\n",
    "    print (\"Decimal equivalent value for 1/\",i,\" is\",1/float(i))"
   ]
  },
  {
   "cell_type": "markdown",
   "metadata": {},
   "source": [
    "# experiment 4"
   ]
  },
  {
   "cell_type": "code",
   "execution_count": 3,
   "metadata": {},
   "outputs": [
    {
     "name": "stdout",
     "output_type": "stream",
     "text": [
      "String with the use of Single Quotes: \n",
      "Welcome to the RIET Jaipur \n"
     ]
    }
   ],
   "source": [
    "# Creating a String\n",
    "String1 = 'Welcome to the RIET Jaipur '\n",
    "print(\"String with the use of Single Quotes: \")\n",
    "print(String1)"
   ]
  },
  {
   "cell_type": "code",
   "execution_count": 4,
   "metadata": {},
   "outputs": [
    {
     "name": "stdout",
     "output_type": "stream",
     "text": [
      "\n",
      " List containing multiple values: \n",
      "RIET\n",
      "RAJ\n"
     ]
    }
   ],
   "source": [
    "# Creating a List with\n",
    "List = [\"RIET\", \"JAIPUR\", \"RAJ\"] \n",
    "print(\"\\n List containing multiple values: \") \n",
    "print(List[0])\n",
    "print(List[2])"
   ]
  },
  {
   "cell_type": "code",
   "execution_count": 5,
   "metadata": {},
   "outputs": [
    {
     "name": "stdout",
     "output_type": "stream",
     "text": [
      "\n",
      "Tuple using List: \n",
      "(1, 2, 4, 5, 6)\n",
      "\n",
      "Set after Addition of Three elements: \n",
      "{8, 9, (6, 7)}\n"
     ]
    }
   ],
   "source": [
    "# Creating a Set \n",
    "set1 = set() \n",
    "set1.add(8) \n",
    "# Creating a Tuple with the use of list\n",
    "list1 = [1, 2, 4, 5, 6]\n",
    "print(\"\\nTuple using List: \") \n",
    "print(tuple(list1))\n",
    "\n",
    "set1.add(9) \n",
    "set1.add((6, 7))\n",
    "print(\"\\nSet after Addition of Three elements: \")\n",
    "print(set1)"
   ]
  },
  {
   "cell_type": "code",
   "execution_count": 6,
   "metadata": {},
   "outputs": [
    {
     "name": "stdout",
     "output_type": "stream",
     "text": [
      "Enter first value3\n",
      "Enter second value5\n",
      "Distance= 5.830951894845301\n"
     ]
    }
   ],
   "source": [
    "import math\n",
    "a=int(input(\"Enter first value\")) \n",
    "b=int(input(\"Enter second value\"))\n",
    "c=math.sqrt(a**2+b**2) \n",
    "print(\"Distance=\",c)"
   ]
  },
  {
   "cell_type": "code",
   "execution_count": 6,
   "metadata": {},
   "outputs": [
    {
     "name": "stdout",
     "output_type": "stream",
     "text": [
      "[(1, 2), (5, 7), (3, 6)]\n"
     ]
    }
   ],
   "source": [
    "def removeDuplicates(lst):\n",
    "    return [t for t in (set(tuple(i) for i in lst))] # Driver code\n",
    "\n",
    "lst = [(1, 2), (5, 7), (3, 6), (1, 2)]\n",
    "print(removeDuplicates(lst))"
   ]
  },
  {
   "cell_type": "code",
   "execution_count": 7,
   "metadata": {},
   "outputs": [
    {
     "name": "stdout",
     "output_type": "stream",
     "text": [
      "[0, 2, 4, 6, 7, 5, 3, 1]\n"
     ]
    }
   ],
   "source": [
    "# separate even odd indexed elements list\n",
    "def evenOddSort(input):\n",
    "    evens = [ input[i] for i in range(0,len(input)) if i%2==0 ] \n",
    "    odds = [ input[i] for i in range(0,len(input)) if i%2!=0 ]\n",
    "    # sort evens in ascending and odds in descending using sorted() method \n",
    "    print (sorted(evens) + sorted(odds,reverse=True))\n",
    "\n",
    "input = [0, 1, 2, 3, 4, 5, 6, 7]\n",
    "evenOddSort(input)"
   ]
  },
  {
   "cell_type": "code",
   "execution_count": 9,
   "metadata": {},
   "outputs": [
    {
     "name": "stdout",
     "output_type": "stream",
     "text": [
      "kohli\tdhoni\tsachin\tsehwag\tDravid\t"
     ]
    }
   ],
   "source": [
    "players=[\"kohli\", \"dhoni\", \"sachin\", \"sehwag\", \"Dravid\"] \n",
    "for i in players:\n",
    "    print (i, end='\\t') "
   ]
  },
  {
   "cell_type": "code",
   "execution_count": null,
   "metadata": {},
   "outputs": [],
   "source": []
  }
 ],
 "metadata": {
  "kernelspec": {
   "display_name": "Python 3",
   "language": "python",
   "name": "python3"
  },
  "language_info": {
   "codemirror_mode": {
    "name": "ipython",
    "version": 3
   },
   "file_extension": ".py",
   "mimetype": "text/x-python",
   "name": "python",
   "nbconvert_exporter": "python",
   "pygments_lexer": "ipython3",
   "version": "3.8.3"
  }
 },
 "nbformat": 4,
 "nbformat_minor": 4
}
