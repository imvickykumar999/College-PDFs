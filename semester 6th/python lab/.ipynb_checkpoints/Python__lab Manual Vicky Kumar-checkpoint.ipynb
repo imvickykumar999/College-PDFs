{
 "cells": [
  {
   "cell_type": "markdown",
   "metadata": {},
   "source": [
    "<table>\n",
    "    <tr>\n",
    "        <td><h1>Name</h1></td>\n",
    "        <td><h1>Vicky Kumar</h1></td>\n",
    "    </tr>\n",
    "    <tr >\n",
    "        <td><h1>Roll No.</h1></td>\n",
    "        <td><h1>18ERECS080</h1></td>\n",
    "    </tr>\n",
    "    <tr>\n",
    "        <td ><h1>Sem</h1></td>\n",
    "        <td><h1>6<sup>th</sup></h1></td>\n",
    "    </tr>\n",
    "    <tr>\n",
    "        <td><h1>Subject</h1></td>\n",
    "        <td><h1>Python Lab</h1></td>\n",
    "    </tr>\n",
    "</table>"
   ]
  },
  {
   "cell_type": "markdown",
   "metadata": {},
   "source": [
    "# TOC:\n",
    "* [Experiment 1](#Experiment-1)\n",
    "* [Experiment 2](#Experiment-2)\n",
    "* [Experiment 3](#Experiment-3)\n",
    "* [Experiment 5](#Experiment-4)\n",
    "* [Experiment 5](#Experiment-5)\n",
    "* [Experiment 6](#Experiment-6)\n",
    "* [Experiment 7](#Experiment-7)\n",
    "* [Experiment 8](#Experiment-8)\n",
    "* [Experiment 9](#Experiment-9)\n",
    "* [Experiment 10](#Experiment-10)\n"
   ]
  },
  {
   "cell_type": "markdown",
   "metadata": {},
   "source": [
    "# Experiment 1"
   ]
  },
  {
   "cell_type": "markdown",
   "metadata": {},
   "source": [
    "## Aim: Write a program to demonstrate basic data type in python. "
   ]
  },
  {
   "cell_type": "markdown",
   "metadata": {},
   "source": [
    "## Basic datatypes in Python are :\n",
    "\n",
    "- int\n",
    "- Float\n",
    "- String\n",
    "- Complex"
   ]
  },
  {
   "cell_type": "code",
   "execution_count": 4,
   "metadata": {
    "scrolled": true
   },
   "outputs": [
    {
     "name": "stdout",
     "output_type": "stream",
     "text": [
      "int operations\n",
      "<class 'int'>\n",
      "1.5\n",
      "<class 'float'>\n",
      "1\n",
      "<class 'int'>\n",
      "====================================================================================================\n",
      "<class 'float'>\n",
      "3.0\n",
      "<class 'float'>\n",
      "====================================================================================================\n",
      "len of string is 12\n",
      "To upper  HELLO WORLD!\n",
      "To Lower  hello world!\n",
      "To Title  Hello World!\n",
      "Get index of 'll' in string  2\n",
      "====================================================================================================\n",
      "<class 'complex'>\n",
      "Imaginary :  6.0\n",
      "Real :  1.0\n",
      "Cojugate :  (1-6j)\n",
      "====================================================================================================\n",
      "lst1 [1, 2]\n",
      "lst2 [3, 4]\n",
      "len of lst1 2\n",
      "lst1 [1]\n",
      "lst2 [4]\n",
      "[]\n",
      "lst2 deleted\n",
      "====================================================================================================\n",
      "tuple (1,)\n",
      "1\n",
      "====================================================================================================\n",
      "dict_keys([1, 2, 3])\n",
      "dict_values([5, 3, 8])\n",
      "1 = 5\n",
      "2 = 3\n",
      "3 = 8\n",
      "{2: 3, 3: 8}\n"
     ]
    }
   ],
   "source": [
    "try:\n",
    "    print(col.Fore.RED)\n",
    "    print(\"int operations\" + col.Style.RESET_ALL)\n",
    "except:\n",
    "    print(\"int operations\")\n",
    "    \n",
    "a = 3\n",
    "print(type(a))\n",
    "\n",
    "float_res = 3/2  # default division gives float\n",
    "print(float_res)\n",
    "print(type(float_res))\n",
    "\n",
    "# convert float to int\n",
    "float_to_int = int(float_res)\n",
    "print(float_to_int)\n",
    "print(type(float_to_int))\n",
    "\n",
    "print('====================================================================================================')\n",
    "\n",
    "try:\n",
    "    print(col.Fore.RED)\n",
    "    print(\"Float operations\" + col.Style.RESET_ALL)\n",
    "except:\n",
    "    pass\n",
    "\n",
    "flt = 3.14\n",
    "print(type(flt))\n",
    "\n",
    "# convert int to float\n",
    "flt_2_int = float(3)\n",
    "print(flt_2_int)\n",
    "print(type(flt_2_int))\n",
    "\n",
    "\n",
    "print('====================================================================================================')\n",
    "\n",
    "try:\n",
    "    print(col.Fore.RED)\n",
    "    print(\"String operations\" + col.Style.RESET_ALL)\n",
    "except:\n",
    "    pass\n",
    "\n",
    "string = \"Hello World!\"\n",
    "\n",
    "print('len of string is {}'.format(string.__len__()))\n",
    "print('To upper ', string.upper())\n",
    "print('To Lower ', string.lower())\n",
    "print('To Title ', string.title())\n",
    "print('Get index of \\'ll\\' in string ', string.find('ll'))\n",
    "\n",
    "\n",
    "\n",
    "print('====================================================================================================')\n",
    "\n",
    "try:\n",
    "    print(col.Fore.RED)\n",
    "    print('Complex Operations', col.Style.RESET_ALL)\n",
    "except:\n",
    "    pass\n",
    "\n",
    "cmpx = 6j + 1\n",
    "print(type(cmpx))\n",
    "\n",
    "print(\"Imaginary : \", cmpx.imag)\n",
    "print(\"Real : \", cmpx.real)\n",
    "print(\"Cojugate : \", cmpx.conjugate())\n",
    "\n",
    "\n",
    "\n",
    "print('====================================================================================================')\n",
    "\n",
    "try:\n",
    "    print(col.Fore.RED)\n",
    "    print('List Operations', col.Style.RESET_ALL)\n",
    "except:\n",
    "    pass\n",
    "\n",
    "\n",
    "lst1 = []\n",
    "lst2 = []\n",
    "\n",
    "# insert into\n",
    "lst1.append(1)\n",
    "lst1.append(2)\n",
    "\n",
    "lst2.append(3)\n",
    "lst2.append(4)\n",
    "\n",
    "print('lst1', lst1)\n",
    "print('lst2', lst2)\n",
    "\n",
    "print('len of lst1', len(lst1))\n",
    "\n",
    "# remove elements\n",
    "\n",
    "lst1.pop()  # last item from lst1\n",
    "lst2.remove(3)  # remove item 4 from lst2\n",
    "print('lst1', lst1)\n",
    "print('lst2', lst2)\n",
    "\n",
    "# deletion\n",
    "lst1.clear()  # empty list\n",
    "print(lst1)\n",
    "\n",
    "del lst2  # deleted from memory\n",
    "try:\n",
    "    print(lst2)  # will cause an error\n",
    "except:\n",
    "    print('lst2 deleted')\n",
    "\n",
    "\n",
    "\n",
    "print('====================================================================================================')\n",
    "\n",
    "    \n",
    "try:\n",
    "    print(col.Fore.RED)\n",
    "    print('Tuple Operations', col.Style.RESET_ALL)\n",
    "except:\n",
    "    pass\n",
    "\n",
    "tpl = (1,)\n",
    "\n",
    "# Note : You can't perform any operaton wich modify original tuple as it is immutable \n",
    "print('tuple', tpl)\n",
    "print(len(tpl))\n",
    "\n",
    "\n",
    "\n",
    "print('====================================================================================================')\n",
    "\n",
    "try:\n",
    "    print(col.Fore.RED)\n",
    "    print('Dictionary Operations', col.Style.RESET_ALL)\n",
    "except:\n",
    "    pass\n",
    "\n",
    "\n",
    "dict_ = {}\n",
    "\n",
    "# assign value\n",
    "dict_[1] = 5\n",
    "dict_[2] = 3\n",
    "dict_[3] = 8\n",
    "\n",
    "# print keys\n",
    "print(dict_.keys())\n",
    "# print values\n",
    "print(dict_.values())\n",
    "\n",
    "# iterate through items\n",
    "for item, val in dict_.items():\n",
    "    print('{item} = {value}'.format(item=item, value=val))\n",
    "\n",
    "# remove an entry\n",
    "del dict_[1]\n",
    "print(dict_)\n",
    "\n"
   ]
  },
  {
   "cell_type": "markdown",
   "metadata": {},
   "source": [
    "# Experiment 2"
   ]
  },
  {
   "cell_type": "markdown",
   "metadata": {},
   "source": [
    "##   (A) Write a program to compute distance between two points taking input from the user. "
   ]
  },
  {
   "cell_type": "markdown",
   "metadata": {},
   "source": [
    "###  distance formula \n",
    "\n",
    "$$\n",
    "D = \\sqrt[2]{(x_2-x_1)^2 - (y_2-y_1)^2}\n",
    "$$"
   ]
  },
  {
   "cell_type": "code",
   "execution_count": 2,
   "metadata": {},
   "outputs": [
    {
     "name": "stdout",
     "output_type": "stream",
     "text": [
      "Enter x1 and y1 : 7 9\n",
      "Enter x2 and y2 : 4 3\n",
      "Distance between point1 (7, 9) and point2 (4, 3) is 6.71 u\n"
     ]
    }
   ],
   "source": [
    "import math\n",
    "\n",
    "\n",
    "def distance(p1: tuple, p2: tuple) -> int:\n",
    "    return math.sqrt(pow((p2[1]-p1[1]), 2) + pow((p2[0]-p1[0]), 2))\n",
    "\n",
    "\n",
    "point1 = tuple(list(map(int, input(\"Enter x1 and y1 : \").split())))\n",
    "point2 = tuple(list(map(int, input(\"Enter x2 and y2 : \").split())))\n",
    "\n",
    "print('Distance between point1 {} and point2 {} is {:.2f} u'.format(\n",
    "    point1, point2, distance(point1, point2)))"
   ]
  },
  {
   "cell_type": "code",
   "execution_count": null,
   "metadata": {},
   "outputs": [],
   "source": []
  },
  {
   "cell_type": "markdown",
   "metadata": {},
   "source": [
    "## Aim: (B) Write a program add.py that takes 2 numbers as command line arguments and prints its sum. "
   ]
  },
  {
   "cell_type": "code",
   "execution_count": 4,
   "metadata": {},
   "outputs": [
    {
     "name": "stdout",
     "output_type": "stream",
     "text": [
      "sum of -f and /home/nk/.local/share/jupyter/runtime/kernel-776fbc35-f39d-4ddb-aa7d-8a5b42fa22f8.json is -f/home/nk/.local/share/jupyter/runtime/kernel-776fbc35-f39d-4ddb-aa7d-8a5b42fa22f8.json\n"
     ]
    }
   ],
   "source": [
    "def add_args(a: int, b: int) -> int:\n",
    "    return a + b\n",
    "\n",
    "a = sys.argv[1]  # 0 is file name\n",
    "b = sys.argv[2]\n",
    "\n",
    "print(\"sum of {} and {} is {}\".format(a, b, add_args(a, b)))\n"
   ]
  },
  {
   "cell_type": "code",
   "execution_count": null,
   "metadata": {},
   "outputs": [],
   "source": []
  },
  {
   "cell_type": "markdown",
   "metadata": {},
   "source": [
    "# Experiment 3"
   ]
  },
  {
   "cell_type": "markdown",
   "metadata": {},
   "source": [
    "## Aim: (A) Write a Program for checking whether the given number is an even or odd number"
   ]
  },
  {
   "cell_type": "markdown",
   "metadata": {},
   "source": [
    "#### if number&1 == True then it is odd else even"
   ]
  },
  {
   "cell_type": "code",
   "execution_count": 5,
   "metadata": {},
   "outputs": [
    {
     "name": "stdout",
     "output_type": "stream",
     "text": [
      "even\n",
      "odd\n",
      "even\n"
     ]
    }
   ],
   "source": [
    "def odd_even(num: int):\n",
    "    if num&1:\n",
    "        return \"odd\"\n",
    "    return \"even\"\n",
    "\n",
    "print(odd_even(8))\n",
    "print(odd_even(21))\n",
    "print(odd_even(0))\n"
   ]
  },
  {
   "cell_type": "markdown",
   "metadata": {},
   "source": [
    "## (B) Using a for loop, write a program that prints out the decimal equivalents of 1/2, 1/3, 1/4, . . . ,"
   ]
  },
  {
   "cell_type": "code",
   "execution_count": 6,
   "metadata": {},
   "outputs": [
    {
     "name": "stdout",
     "output_type": "stream",
     "text": [
      "1/2   =       0.50\n",
      "1/3   =       0.33\n",
      "1/4   =       0.25\n",
      "1/5   =       0.20\n",
      "1/6   =       0.17\n",
      "1/7   =       0.14\n",
      "1/8   =       0.12\n",
      "1/9   =       0.11\n",
      "1/10  =       0.10\n",
      "1/11  =       0.09\n",
      "1/12  =       0.08\n",
      "1/13  =       0.08\n",
      "1/14  =       0.07\n",
      "1/15  =       0.07\n"
     ]
    }
   ],
   "source": [
    "def frac_n(n):\n",
    "    for i in range(2, n+1):\n",
    "        print('{:<5} = {:>10.2f}'.format('1/' + str(i), 1/i))\n",
    "        \n",
    "frac_n(15)"
   ]
  },
  {
   "cell_type": "code",
   "execution_count": null,
   "metadata": {},
   "outputs": [],
   "source": []
  },
  {
   "cell_type": "markdown",
   "metadata": {},
   "source": [
    "# Experiment 4"
   ]
  },
  {
   "cell_type": "markdown",
   "metadata": {},
   "source": [
    "## Aim: (A) Write a Program to demonstrate list in python (We are given an array of n distinct numbers, the task is to sort all even-placed numbers in increasing and odd-place numbers in decreasing order. The modified array should contain all sorted even-placed numbers followed by reverse sorted odd-placed numbers.)"
   ]
  },
  {
   "cell_type": "code",
   "execution_count": 7,
   "metadata": {},
   "outputs": [
    {
     "name": "stdout",
     "output_type": "stream",
     "text": [
      "original array [7, 1, 5, 6, 4, 3, 8, 0, 2, 9]\n",
      "\n",
      "sorted array [2, 9, 4, 6, 5, 3, 7, 1, 8, 0]\n"
     ]
    }
   ],
   "source": [
    "from random import shuffle\n",
    "\n",
    "def sort_arr(arr):\n",
    "    even = sorted(arr[::2])\n",
    "    odd = list(reversed(sorted(arr[1::2])))\n",
    "    \n",
    "    len_ = len(arr)\n",
    "    ind = 0\n",
    "    \n",
    "    for i in range(0, len_, 2):\n",
    "        try:\n",
    "            arr[i] = even[ind]\n",
    "            arr[i+1] = odd[ind]\n",
    "        except:\n",
    "            continue\n",
    "        ind += 1\n",
    "    return arr\n",
    "    \n",
    "lst = list(range(10))\n",
    "shuffle(lst)\n",
    "print('original array', lst)\n",
    "\n",
    "print('\\nsorted array', sort_arr(lst))\n",
    "\n"
   ]
  },
  {
   "cell_type": "code",
   "execution_count": null,
   "metadata": {},
   "outputs": [],
   "source": []
  },
  {
   "cell_type": "markdown",
   "metadata": {},
   "source": [
    "## Aim: (B) Write a Program to demonstrate tuple in python (Given a list of tuples, Write a Python program to remove all the duplicated tuples from the given list)."
   ]
  },
  {
   "cell_type": "code",
   "execution_count": 8,
   "metadata": {},
   "outputs": [
    {
     "name": "stdout",
     "output_type": "stream",
     "text": [
      "Original List of Tuples                            : [(1, 2), (1, 2), (2, 1)]\n",
      "After deleting Duplicates tuples from list         : [(1, 2), (2, 1)]\n"
     ]
    }
   ],
   "source": [
    "from collections import Counter\n",
    "\n",
    "def remove_tuples(lst: list):\n",
    "    c = Counter(lst)\n",
    "    for item, rep in c.items():\n",
    "        if rep>1:\n",
    "            lst.remove(item)\n",
    "    \n",
    "lst = [(1,2), (1,2), (2,1)]\n",
    "print('{:<50} : {}'.format(\"Original List of Tuples \", lst))\n",
    "\n",
    "remove_tuples(lst)\n",
    "\n",
    "print('{:<50} : {}'.format('After deleting Duplicates tuples from list ', lst))\n",
    "\n"
   ]
  },
  {
   "cell_type": "code",
   "execution_count": null,
   "metadata": {},
   "outputs": [],
   "source": []
  },
  {
   "cell_type": "markdown",
   "metadata": {},
   "source": [
    "## Aim: (C) Write a program using a for loop that loops over a sequence."
   ]
  },
  {
   "cell_type": "code",
   "execution_count": 9,
   "metadata": {},
   "outputs": [
    {
     "name": "stdout",
     "output_type": "stream",
     "text": [
      "kohli\n",
      "dhoni\n",
      "sachin\n",
      "sehwag\n",
      "Dravid\n"
     ]
    }
   ],
   "source": [
    "def loop(lst):\n",
    "    for item in lst:\n",
    "        print(item)\n",
    "        \n",
    "loop([\"kohli\", \"dhoni\", \"sachin\", \"sehwag\", \"Dravid\"])"
   ]
  },
  {
   "cell_type": "code",
   "execution_count": null,
   "metadata": {},
   "outputs": [],
   "source": []
  },
  {
   "cell_type": "markdown",
   "metadata": {},
   "source": [
    "## Aim: (d) Write a program using a while loop that asks the user for a number, and prints a countdown from that number to zero."
   ]
  },
  {
   "cell_type": "code",
   "execution_count": 10,
   "metadata": {},
   "outputs": [
    {
     "name": "stdout",
     "output_type": "stream",
     "text": [
      "Time's Up\n"
     ]
    }
   ],
   "source": [
    "from time import sleep\n",
    "\n",
    "\n",
    "def countdown(n: int):\n",
    "    while n:\n",
    "        print(n, '', end='\\r')\n",
    "        n -= 1\n",
    "        sleep(1)\n",
    "    print('Time\\'s Up')\n",
    "        \n",
    "countdown(10)\n"
   ]
  },
  {
   "cell_type": "code",
   "execution_count": null,
   "metadata": {},
   "outputs": [],
   "source": []
  },
  {
   "cell_type": "markdown",
   "metadata": {},
   "source": [
    "# Experiment 5"
   ]
  },
  {
   "cell_type": "markdown",
   "metadata": {},
   "source": [
    "## Aim: (A) Find the sum of all the primes below two million."
   ]
  },
  {
   "cell_type": "code",
   "execution_count": 11,
   "metadata": {},
   "outputs": [
    {
     "name": "stdout",
     "output_type": "stream",
     "text": [
      "Sum of first 2000000 primes numbers are 142913828922\n"
     ]
    }
   ],
   "source": [
    "\n",
    "def steve_of_strato(n: int):\n",
    "    # 0 and 1 are not prime\n",
    "    # assume others are \n",
    "    primes = [False, False] + [True for i in range(n-1)]\n",
    "    sum_ = 0\n",
    "    \n",
    "    for i in range(2, n+1):\n",
    "        if primes[i]:\n",
    "            for num in range(2*i, n+1, i):\n",
    "                # multiples of i won't be prime then\n",
    "                primes[num] = False\n",
    "    for num, val in enumerate(primes):\n",
    "        if val:\n",
    "            sum_+= num\n",
    "\n",
    "#     print(primes)\n",
    "    \n",
    "    return sum_\n",
    "\n",
    "n = 2_000_000  # 2M\n",
    "print('Sum of first {} primes numbers are {}'.format(n, steve_of_strato(n)))\n",
    "                "
   ]
  },
  {
   "cell_type": "code",
   "execution_count": null,
   "metadata": {},
   "outputs": [],
   "source": []
  },
  {
   "cell_type": "markdown",
   "metadata": {},
   "source": [
    "## Aim: (B) By considering the terms in the Fibonacci sequence whose values do not exceed four million, WAP to find the sum of the even-valued terms."
   ]
  },
  {
   "cell_type": "code",
   "execution_count": 12,
   "metadata": {},
   "outputs": [
    {
     "name": "stdout",
     "output_type": "stream",
     "text": [
      "Sum of all even fibonacci numbers under 4000000 is 4613732\n"
     ]
    }
   ],
   "source": [
    "def fibo(n):\n",
    "    term1 = 0\n",
    "    term2 = 1\n",
    "    sum_ = 0\n",
    "    \n",
    "    while term2<n:\n",
    "        next_ = term1 + term2\n",
    "        term1 = term2\n",
    "        term2 = next_\n",
    "        if not (next_&1):\n",
    "#             print(next_)\n",
    "            sum_ += next_\n",
    "            \n",
    "#         print(term1, term2)\n",
    "    print('Sum of all even fibonacci numbers under {} is {}'.format(n, sum_))\n",
    "\n",
    "fibo(4_000_000)"
   ]
  },
  {
   "cell_type": "code",
   "execution_count": null,
   "metadata": {},
   "outputs": [],
   "source": []
  },
  {
   "cell_type": "markdown",
   "metadata": {},
   "source": [
    "# Experiment 6"
   ]
  },
  {
   "cell_type": "markdown",
   "metadata": {},
   "source": [
    "## Aim: (A) Write a program to count the numbers of characters in the string and store them in a dictionary data structure."
   ]
  },
  {
   "cell_type": "code",
   "execution_count": 11,
   "metadata": {},
   "outputs": [
    {
     "data": {
      "text/plain": [
       "{'m': 3,\n",
       " 'y': 2,\n",
       " ' ': 5,\n",
       " 'n': 2,\n",
       " 'a': 6,\n",
       " 'e': 1,\n",
       " 'i': 2,\n",
       " 's': 1,\n",
       " 'c': 1,\n",
       " 'h': 1,\n",
       " 'd': 1,\n",
       " 'r': 1,\n",
       " 'v': 1,\n",
       " 'j': 1,\n",
       " 'k': 1,\n",
       " 'u': 1,\n",
       " 'w': 1,\n",
       " 't': 1}"
      ]
     },
     "execution_count": 11,
     "metadata": {},
     "output_type": "execute_result"
    }
   ],
   "source": [
    "def count_chars(string):\n",
    "    res = {}\n",
    "    for char in string:\n",
    "        if res.get(char):\n",
    "            res[char] += 1\n",
    "        else:\n",
    "            res[char] = 1\n",
    "    return res\n",
    "\n",
    "\n",
    "count_chars(\"my name is chandra vijay kumawat\")"
   ]
  },
  {
   "cell_type": "code",
   "execution_count": null,
   "metadata": {},
   "outputs": [],
   "source": []
  },
  {
   "cell_type": "markdown",
   "metadata": {},
   "source": [
    "## Aim: (B) Write a program to use split and join methods in the string and trace a birthday of a person with a dictionary data structure."
   ]
  },
  {
   "cell_type": "code",
   "execution_count": 14,
   "metadata": {},
   "outputs": [
    {
     "name": "stdout",
     "output_type": "stream",
     "text": [
      "Whose birthday you want to know : i want vinay and vimal virthday\n",
      "Dob of vinay is 31-08-1988\n"
     ]
    }
   ],
   "source": [
    "dob={\"mohit\":\"12-11-1990\",\"sudheer\":\"17-08-1991\",\"vinay\":\"31-08-1988\"}\n",
    "\n",
    "def get_dob(string):\n",
    "    fount = 0\n",
    "    for name in string.split():\n",
    "        if name in dob:\n",
    "            if dob.get(name):\n",
    "                print(' '.join(['Dob of', name, 'is', dob[name]]))\n",
    "                found = 1\n",
    "    if not found:\n",
    "        return 'Sorry I don\\'t know his Dob'\n",
    "\n",
    "\n",
    "string = input(\"Whose birthday you want to know : \")\n",
    "\n",
    "get_dob(string)"
   ]
  },
  {
   "cell_type": "code",
   "execution_count": null,
   "metadata": {},
   "outputs": [],
   "source": []
  },
  {
   "cell_type": "markdown",
   "metadata": {},
   "source": [
    "# Experiment 7"
   ]
  },
  {
   "cell_type": "markdown",
   "metadata": {},
   "source": [
    "## Aim: Write a program to count frequency of characters in a given file. Can you use character frequency to tell whether the given file is a Python program file, C program file or a text file?"
   ]
  },
  {
   "cell_type": "code",
   "execution_count": 7,
   "metadata": {},
   "outputs": [
    {
     "name": "stdout",
     "output_type": "stream",
     "text": [
      "{'u': 15, 's': 8, 'i': 29, 'n': 32, 'g': 12, ' ': 201, 'a': 40, 'm': 2, 'e': 29, 'p': 12, 'c': 16, 't': 36, 'd': 50, ';': 19, '\\n': 39, '/': 10, 'A': 3, 'l': 4, 'y': 4, 'f': 7, 'o': 18, 'r': 21, 'h': 8, '.': 3, 'v': 15, 'E': 8, '(': 16, '<': 14, '>': 4, 'j': 16, '[': 6, ']': 6, ',': 18, ')': 16, '{': 4, '_': 2, 'b': 2, 'k': 2, '}': 4, 'G': 2, 'V': 5, '=': 2, '0': 4, '+': 2, '\"': 8, '\\\\': 3, 'x': 3, ':': 1, '-': 1, 'D': 1, '5': 1, '1': 4, '4': 3, '2': 2, '3': 3}\n",
      "file_extension== .py\n",
      "its python program file\n"
     ]
    }
   ],
   "source": [
    "import os\n",
    "\n",
    "def check_file(name):\n",
    "    f=open(name)\n",
    "\n",
    "    count=dict()\n",
    "    for line in f:\n",
    "        for ch in line:\n",
    "            if ch in count:\n",
    "                count[ch]=count[ch]+1\n",
    "            else:\n",
    "                count[ch]=1\n",
    "\n",
    "    print (count)\n",
    "\n",
    "    filename,file_extension=os.path.splitext(name)\n",
    "    \n",
    "    print(\"file_extension==\",file_extension);\n",
    "    \n",
    "    if(file_extension=='.py'):\n",
    "        print(\"its python program file\");\n",
    "    elif(file_extension==\".txt\"):\n",
    "        print(\"its a txt file\");\n",
    "    elif(file_extension==\".c\"):\n",
    "        print(\"its a c program file\");\n",
    "    f.close()\n",
    "\n",
    "check_file(\"C:/Users/ChandraKumawat/Desktop/test.py\")"
   ]
  },
  {
   "cell_type": "code",
   "execution_count": null,
   "metadata": {},
   "outputs": [],
   "source": []
  },
  {
   "cell_type": "markdown",
   "metadata": {},
   "source": [
    "# Experiment 8"
   ]
  },
  {
   "cell_type": "markdown",
   "metadata": {},
   "source": [
    "## Aim: (a) Write a program to print each line of a file in reverse order."
   ]
  },
  {
   "cell_type": "code",
   "execution_count": 8,
   "metadata": {},
   "outputs": [
    {
     "name": "stdout",
     "output_type": "stream",
     "text": [
      "\n",
      ";dts ecapseman gnisu\n",
      "\n",
      " \n",
      "\n",
      "na ni egde na dda ot noitcnuf ytilitu A //\n",
      "\n",
      ".hparg detceridnu //\n",
      "\n",
      ")v tni ,u tni ,][jda >tni<rotcev(egdEdda diov\n",
      "\n",
      "{\n",
      "\n",
      ";)v(kcab_hsup.]u[jda    \n",
      "\n",
      ";)u(kcab_hsup.]v[jda    \n",
      "\n",
      "}\n",
      "\n",
      " \n",
      "\n",
      "tsil ycnecajda eht tnirp ot noitcnuf ytilitu A //\n",
      "\n",
      "hparg fo noitatneserper //\n",
      "\n",
      ")V tni ,][jda >tni<rotcev(hparGtnirp diov\n",
      "\n",
      "{\n",
      "\n",
      ")v++ ;V < v ;0 = v tni( rof    \n",
      "\n",
      "{    \n",
      "\n",
      "\" xetrev fo tsil ycnecajdA n\\\" << tuoc        \n",
      "\n",
      ";\" daeh n\\\" << v <<             \n",
      "\n",
      ")]v[jda : x otua( rof        \n",
      "\n",
      ";x << \" >-\" << tuoc           \n",
      "\n",
      ";)\"n\\\"(ftnirp        \n",
      "\n",
      "}    \n",
      "\n",
      "}\n",
      "\n",
      " \n",
      "\n",
      "edoc revirD //\n",
      "\n",
      ")(niam tni\n",
      "\n",
      "{\n",
      "\n",
      ";5 = V tni    \n",
      "\n",
      ";]V[jda >tni<rotcev    \n",
      "\n",
      ";)1 ,0 ,jda(egdEdda    \n",
      "\n",
      ";)4 ,0 ,jda(egdEdda    \n",
      "\n",
      ";)2 ,1 ,jda(egdEdda    \n",
      "\n",
      ";)3 ,1 ,jda(egdEdda    \n",
      "\n",
      ";)4 ,1 ,jda(egdEdda    \n",
      "\n",
      ";)3 ,2 ,jda(egdEdda    \n",
      "\n",
      ";)4 ,3 ,jda(egdEdda    \n",
      "\n",
      ";)V ,jda(hparGtnirp    \n",
      "\n",
      ";0 nruter    \n",
      "\n",
      "}\n"
     ]
    }
   ],
   "source": [
    "def print_line(file):\n",
    "    with open(file, 'r+') as file:\n",
    "        for line in file.readlines():\n",
    "            print(''.join(list(reversed(line))))\n",
    "\n",
    "            \n",
    "print_line(\"C:/Users/ChandraKumawat/Desktop/test.py\")"
   ]
  },
  {
   "cell_type": "code",
   "execution_count": null,
   "metadata": {},
   "outputs": [],
   "source": []
  },
  {
   "cell_type": "markdown",
   "metadata": {},
   "source": [
    "## Aim: (b) Write a program to compute the number of characters, words and lines in a file."
   ]
  },
  {
   "cell_type": "code",
   "execution_count": 10,
   "metadata": {},
   "outputs": [
    {
     "name": "stdout",
     "output_type": "stream",
     "text": [
      "Enter the filename: C:/Users/ChandraKumawat/Desktop/test.py\n",
      "No. of lines 39\n",
      "No. of words 201\n",
      "No. of characters 556\n"
     ]
    }
   ],
   "source": [
    "def compute(filename):\n",
    "    with open(filename,\"r\") as file:\n",
    "        l = w = c = 0\n",
    "        \n",
    "        for ch in file.read():\n",
    "            if ch=='\\n':\n",
    "                l+=1\n",
    "            elif ch==' ':\n",
    "                w += 1\n",
    "            else:\n",
    "                c += 1\n",
    "        print(\"No. of lines\",l)\n",
    "        print(\"No. of words\",w)\n",
    "        print(\"No. of characters\",c)\n",
    "    file.close()\n",
    "\n",
    "file = input(\"Enter the filename: \")\n",
    "compute(file)"
   ]
  },
  {
   "cell_type": "code",
   "execution_count": null,
   "metadata": {},
   "outputs": [],
   "source": []
  },
  {
   "cell_type": "markdown",
   "metadata": {},
   "source": [
    "# Experiment 9"
   ]
  },
  {
   "cell_type": "markdown",
   "metadata": {},
   "source": [
    "## Aim: (a) Write a function nearly equal to test whether two strings are nearly equal. Two strings a and b are nearly equal when a can be generated by a single mutation on."
   ]
  },
  {
   "cell_type": "code",
   "execution_count": 18,
   "metadata": {},
   "outputs": [
    {
     "name": "stdout",
     "output_type": "stream",
     "text": [
      "Enter test cases : 2\n",
      "Enter First Word: Nileesh\n",
      "Enter Second Word: Niteesh\n",
      "True\n",
      "Enter First Word: Nakul\n",
      "Enter Second Word: Naakull\n",
      "False\n"
     ]
    }
   ],
   "source": [
    "import string\n",
    "\n",
    "\n",
    "def mutate(word):\n",
    "    out_list = []\n",
    "    letters = string.ascii_lowercase\n",
    "    \n",
    "    #insert a character\n",
    "    for i in range(len(word) + 1):\n",
    "        for j in range(26):\n",
    "            out_list.append(word[:i] + letters[j] + word[i:])\n",
    "    \n",
    "    #deleting a character\n",
    "    for i in range(len(word)):\n",
    "        out_list.append(word[:i] + word[i + 1:])\n",
    "    \n",
    "    #replace a character\n",
    "    for i in range(len(word)):\n",
    "        for j in range(26):\n",
    "            out_list.append(word[:i] + letters[j] + word[i + 1:])\n",
    " \n",
    "    #swapping a characters\n",
    "    current_word = []\n",
    "    out_word = ''\n",
    "    for i in range(len(word) - 1):\n",
    "        for j in range(i + 1, len(word)):\n",
    "            #converting string into list\n",
    "            cword = list(word)\n",
    "\n",
    "            #Swapping of characters in a list\n",
    "            cword[i], cword [j] = cword [j], cword [i]\n",
    "\n",
    "            #converting list into string\n",
    "            str1=\"\".join(current_word)\n",
    "            out_list.append(str1)\n",
    "\n",
    "    return out_list\n",
    "\n",
    "\n",
    "def nearly_equal(word1, word2):\n",
    "    if len(word1)<len(word2):\n",
    "        word1,word2=word2,word1\n",
    "        return word1 in mutate(word2)\n",
    "    else:\n",
    "        return word1 in mutate(word2)\n",
    "\n",
    "tests = int(input(\"Enter test cases : \"))\n",
    "\n",
    "while tests:\n",
    "    a = input(\"Enter First Word: \").lower()\n",
    "    b = input(\"Enter Second Word: \").lower()\n",
    "    \n",
    "    print(nearly_equal(a,b))\n",
    "    tests -= 1"
   ]
  },
  {
   "cell_type": "code",
   "execution_count": null,
   "metadata": {},
   "outputs": [],
   "source": []
  },
  {
   "cell_type": "markdown",
   "metadata": {},
   "source": [
    "## Aim: (b) Write function to compute gcd, lcm of two numbers. Each function shouldn’t exceed one line."
   ]
  },
  {
   "cell_type": "code",
   "execution_count": 19,
   "metadata": {},
   "outputs": [
    {
     "name": "stdout",
     "output_type": "stream",
     "text": [
      "Enter space separated numbers a and b33 98\n",
      "GCD of a 33 b, 98 is 1\n",
      "LCM of a 33 b, 98 is 3234\n"
     ]
    }
   ],
   "source": [
    "def gcd(a, b): return b if a==0 else gcd(b%a, a)\n",
    "\n",
    "def lcm(a, b): return int((a*b)/gcd(a,b))\n",
    "\n",
    "a, b = map(int, input(\"Enter space separated numbers a and b\").split())\n",
    "\n",
    "print('GCD of a', a, 'b,', b, 'is', gcd(a, b))\n",
    "print('LCM of a', a, 'b,', b, 'is', lcm(a, b))\n"
   ]
  },
  {
   "cell_type": "code",
   "execution_count": null,
   "metadata": {},
   "outputs": [],
   "source": []
  },
  {
   "cell_type": "markdown",
   "metadata": {},
   "source": [
    "# Experiment 10"
   ]
  },
  {
   "cell_type": "markdown",
   "metadata": {},
   "source": [
    "# Aim: (a) Write a program to implement Merge sort."
   ]
  },
  {
   "cell_type": "code",
   "execution_count": 20,
   "metadata": {},
   "outputs": [
    {
     "name": "stdout",
     "output_type": "stream",
     "text": [
      "[14, 21, 27, 41, 43, 45, 46, 57, 70]\n"
     ]
    }
   ],
   "source": [
    "def mergeSort(nlist):\n",
    "    #print(\"Splitting \",nlist)\n",
    "    \n",
    "    if len(nlist)==1:\n",
    "        return 0\n",
    "    \n",
    "    mid = len(nlist)//2\n",
    "        \n",
    "    lefthalf = nlist[:mid]\n",
    "    righthalf = nlist[mid:]\n",
    "    \n",
    "    mergeSort(lefthalf)\n",
    "    mergeSort(righthalf)\n",
    "\n",
    "    i=j=k=0\n",
    "    \n",
    "    while i < len(lefthalf) and j < len(righthalf):\n",
    "        if lefthalf[i] < righthalf[j]:\n",
    "            nlist[k] = lefthalf[i]\n",
    "            i=i+1\n",
    "        else:\n",
    "            nlist[k]=righthalf[j]\n",
    "            j=j+1\n",
    "        k=k+1\n",
    "\n",
    "    while i < len(lefthalf):\n",
    "        nlist[k]=lefthalf[i]\n",
    "        i=i+1\n",
    "        k=k+1\n",
    "\n",
    "    while j < len(righthalf):\n",
    "        nlist[k]=righthalf[j]\n",
    "        j=j+1\n",
    "        k=k+1\n",
    "        \n",
    "#print(\"Merging \",nlist)\n",
    "nlist = [14,46,43,27,57,41,45,21,70]\n",
    "\n",
    "mergeSort(nlist)\n",
    "\n",
    "print(nlist)"
   ]
  },
  {
   "cell_type": "code",
   "execution_count": null,
   "metadata": {},
   "outputs": [],
   "source": []
  },
  {
   "cell_type": "markdown",
   "metadata": {},
   "source": [
    "## Aim: (b) Write a program to implement Selection sort."
   ]
  },
  {
   "cell_type": "code",
   "execution_count": 21,
   "metadata": {},
   "outputs": [
    {
     "name": "stdout",
     "output_type": "stream",
     "text": [
      "[14, 21, 27, 41, 43, 45, 46, 57, 70]\n"
     ]
    }
   ],
   "source": [
    "def selectionSort(nlist):\n",
    "    for fillslot in range(len(nlist)-1,0,-1):\n",
    "        maxpos=0\n",
    "        for location in range(1,fillslot+1):\n",
    "            if nlist[location]>nlist[maxpos]:\n",
    "                maxpos = location\n",
    "        temp = nlist[fillslot]\n",
    "        nlist[fillslot] = nlist[maxpos]\n",
    "        nlist[maxpos] = temp\n",
    "    \n",
    "    \n",
    "nlist = [14,46,43,27,57,41,45,21,70]\n",
    "selectionSort(nlist)\n",
    "print(nlist)"
   ]
  },
  {
   "cell_type": "code",
   "execution_count": null,
   "metadata": {},
   "outputs": [],
   "source": []
  },
  {
   "cell_type": "markdown",
   "metadata": {},
   "source": [
    "## Aim: (c) Write a program to implement Insertion sort."
   ]
  },
  {
   "cell_type": "code",
   "execution_count": 22,
   "metadata": {},
   "outputs": [
    {
     "name": "stdout",
     "output_type": "stream",
     "text": [
      "[14, 21, 27, 41, 43, 45, 46, 57, 70]\n"
     ]
    }
   ],
   "source": [
    "def insertionSort(nlist):\n",
    "    for index in range(1,len(nlist)):\n",
    "        currentvalue = nlist[index]\n",
    "        position = index\n",
    "        while position>0 and nlist[position-1]>currentvalue:\n",
    "            nlist[position]=nlist[position-1]\n",
    "            position = position-1\n",
    "        nlist[position]=currentvalue\n",
    "\n",
    "\n",
    "nlist = [14,46,43,27,57,41,45,21,70]\n",
    "insertionSort(nlist)\n",
    "print(nlist)"
   ]
  },
  {
   "cell_type": "code",
   "execution_count": null,
   "metadata": {},
   "outputs": [],
   "source": []
  },
  {
   "cell_type": "code",
   "execution_count": null,
   "metadata": {},
   "outputs": [],
   "source": []
  }
 ],
 "metadata": {
  "kernelspec": {
   "display_name": "Python 3",
   "language": "python",
   "name": "python3"
  },
  "language_info": {
   "codemirror_mode": {
    "name": "ipython",
    "version": 3
   },
   "file_extension": ".py",
   "mimetype": "text/x-python",
   "name": "python",
   "nbconvert_exporter": "python",
   "pygments_lexer": "ipython3",
   "version": "3.8.3"
  }
 },
 "nbformat": 4,
 "nbformat_minor": 4
}
