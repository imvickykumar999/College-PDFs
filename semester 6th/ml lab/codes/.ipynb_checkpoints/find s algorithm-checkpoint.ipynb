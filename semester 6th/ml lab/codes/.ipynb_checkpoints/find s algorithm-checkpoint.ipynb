{
 "cells": [
  {
   "cell_type": "markdown",
   "metadata": {},
   "source": [
    "# [Find S algorithm](https://www.geeksforgeeks.org/ml-find-s-algorithm/)"
   ]
  },
  {
   "cell_type": "code",
   "execution_count": 1,
   "metadata": {
    "scrolled": true
   },
   "outputs": [
    {
     "name": "stdout",
     "output_type": "stream",
     "text": [
      "\n",
      " The Given Training Data Set \n",
      "\n",
      "['day', 'outlook', 'temp', 'humidity', 'wind', 'play']\n",
      "['D1', 'Sunny', 'Hot', 'High', 'Weak', 'No']\n",
      "['D2', 'Sunny', 'Hot', 'High', 'Strong', 'No']\n",
      "['D3', 'Overcast', 'Hot', 'High', 'Weak', 'Yes']\n",
      "['D4', 'Rain', 'Mild', 'High', 'Weak', 'Yes']\n",
      "['D5', 'Rain', 'Cool', 'Normal', 'Weak', 'Yes']\n",
      "['D6', 'Rain', 'Cool', 'Normal', 'Strong', 'No']\n",
      "['D7', 'Overcast', 'Cool', 'Normal', 'Strong', 'Yes']\n",
      "['D8', 'Sunny', 'Mild', 'High', 'Weak', 'No']\n",
      "['D9', 'Sunny', 'Cool', 'Normal', 'Weak', 'Yes']\n",
      "['D10', 'Rain', 'Mild', 'Normal', 'Weak', 'Yes']\n",
      "['D11', 'Sunny', 'Mild', 'Normal', 'Strong', 'Yes']\n",
      "['D12', 'Overcast', 'Mild', 'High', 'Strong', 'Yes']\n",
      "['D13', 'Overcast', 'Hot', 'Normal', 'Weak', 'Yes']\n",
      "['D14', 'Rain', 'Mild', 'High', 'Strong', 'No']\n",
      "\n",
      " The initial value of hypothesis: \n",
      "['0', '0', '0', '0', '0']\n",
      "\n",
      " The a[1] value of hypothesis: \n",
      "['D1', 'Sunny', 'Hot', 'High', 'Weak']\n",
      "\n",
      " Find S: Finding a Maximally Specific Hypothesis\n",
      "\n",
      " For Training instance No:0 the hypothesis is  ['D1', 'Sunny', 'Hot', 'High', 'Weak']\n",
      " For Training instance No:1 the hypothesis is  ['D1', 'Sunny', 'Hot', 'High', 'Weak']\n",
      " For Training instance No:2 the hypothesis is  ['D1', 'Sunny', 'Hot', 'High', 'Weak']\n",
      " For Training instance No:3 the hypothesis is  ['?', '?', 'Hot', 'High', 'Weak']\n",
      " For Training instance No:4 the hypothesis is  ['?', '?', '?', 'High', 'Weak']\n",
      " For Training instance No:5 the hypothesis is  ['?', '?', '?', '?', 'Weak']\n",
      " For Training instance No:6 the hypothesis is  ['?', '?', '?', '?', 'Weak']\n",
      " For Training instance No:7 the hypothesis is  ['?', '?', '?', '?', '?']\n",
      " For Training instance No:8 the hypothesis is  ['?', '?', '?', '?', '?']\n",
      " For Training instance No:9 the hypothesis is  ['?', '?', '?', '?', '?']\n",
      " For Training instance No:10 the hypothesis is  ['?', '?', '?', '?', '?']\n",
      " For Training instance No:11 the hypothesis is  ['?', '?', '?', '?', '?']\n",
      " For Training instance No:12 the hypothesis is  ['?', '?', '?', '?', '?']\n",
      " For Training instance No:13 the hypothesis is  ['?', '?', '?', '?', '?']\n",
      " For Training instance No:14 the hypothesis is  ['?', '?', '?', '?', '?']\n",
      "\n",
      " The Maximally Specific Hypothesis for a given Training Examples :\n",
      "\n",
      "['?', '?', '?', '?', '?']\n"
     ]
    }
   ],
   "source": [
    "import csv\n",
    "num_attributes = 5\n",
    "a = []\n",
    "print(\"\\n The Given Training Data Set \\n\")\n",
    "\n",
    "with open('tennis.csv', 'r') as csvfile:\n",
    "    reader = csv.reader(csvfile)\n",
    "    for row in reader:\n",
    "        a.append (row)\n",
    "        print(row)\n",
    "        \n",
    "print(\"\\n The initial value of hypothesis: \")\n",
    "hypothesis = ['0'] * num_attributes\n",
    "print(hypothesis)\n",
    "\n",
    "for j in range(0,num_attributes):\n",
    "    hypothesis[j] = a[1][j] \n",
    "    \n",
    "print(\"\\n The a[1] value of hypothesis: \")\n",
    "print(hypothesis)\n",
    "\n",
    "print(\"\\n Find S: Finding a Maximally Specific Hypothesis\\n\")\n",
    "\n",
    "for i in range(0,len(a)):\n",
    "    if a[i][num_attributes]=='Yes':\n",
    "        for j in range(0,num_attributes):\n",
    "            if a[i][j]!=hypothesis[j]:\n",
    "                hypothesis[j]='?'\n",
    "            else :\n",
    "                hypothesis[j]= a[i][j] \n",
    "    print(\" For Training instance No:{} the hypothesis is \".format(i), hypothesis)\n",
    "\n",
    "print(\"\\n The Maximally Specific Hypothesis for a given Training Examples :\\n\")\n",
    "print(hypothesis)"
   ]
  },
  {
   "cell_type": "code",
   "execution_count": 51,
   "metadata": {},
   "outputs": [
    {
     "name": "stdout",
     "output_type": "stream",
     "text": [
      "\n",
      " The Given Training Data Set \n",
      "\n",
      "['Sunny', 'Warm', 'Normal', 'Strong', 'Warm', 'Same', 'Yes']\n",
      "['Sunny', 'Warm', 'High', 'Strong', 'Warm', 'Same', 'Yes']\n",
      "['Rainy', 'Cold', 'High', 'Strong', 'Warm', 'Change', 'No']\n",
      "['Sunny', 'Warm', 'High', 'Strong', 'Cool', 'Change', 'Yes']\n"
     ]
    },
    {
     "data": {
      "text/plain": [
       "_csv.reader"
      ]
     },
     "execution_count": 51,
     "metadata": {},
     "output_type": "execute_result"
    }
   ],
   "source": [
    "import csv\n",
    "num_attributes = 6\n",
    "a = [] \n",
    "print(\"\\n The Given Training Data Set \\n\")\n",
    "\n",
    "with open('ws.csv', 'r') as csvfile:\n",
    "    reader = csv.reader(csvfile)\n",
    "    for row in reader:\n",
    "        a.append (row)\n",
    "        print(row)\n",
    "        \n",
    "type(reader)"
   ]
  },
  {
   "cell_type": "code",
   "execution_count": 52,
   "metadata": {},
   "outputs": [
    {
     "data": {
      "text/plain": [
       "([['Sunny', 'Warm', 'Normal', 'Strong', 'Warm', 'Same', 'Yes'],\n",
       "  ['Sunny', 'Warm', 'High', 'Strong', 'Warm', 'Same', 'Yes'],\n",
       "  ['Rainy', 'Cold', 'High', 'Strong', 'Warm', 'Change', 'No'],\n",
       "  ['Sunny', 'Warm', 'High', 'Strong', 'Cool', 'Change', 'Yes']],\n",
       " 4)"
      ]
     },
     "execution_count": 52,
     "metadata": {},
     "output_type": "execute_result"
    }
   ],
   "source": [
    "a, len(a) "
   ]
  },
  {
   "cell_type": "code",
   "execution_count": 53,
   "metadata": {},
   "outputs": [
    {
     "data": {
      "text/plain": [
       "['Sunny', 'Warm', 'Normal', 'Strong', 'Warm', 'Same', 'Yes']"
      ]
     },
     "execution_count": 53,
     "metadata": {},
     "output_type": "execute_result"
    }
   ],
   "source": [
    "a[0] "
   ]
  },
  {
   "cell_type": "code",
   "execution_count": 54,
   "metadata": {},
   "outputs": [
    {
     "data": {
      "text/plain": [
       "['Sunny', 'Warm', 'Normal', 'Strong', 'Warm', 'Same']"
      ]
     },
     "execution_count": 54,
     "metadata": {},
     "output_type": "execute_result"
    }
   ],
   "source": [
    "a[0][:-1]"
   ]
  },
  {
   "cell_type": "code",
   "execution_count": 55,
   "metadata": {},
   "outputs": [
    {
     "name": "stdout",
     "output_type": "stream",
     "text": [
      "\n",
      " The initial value of hypothesis: \n",
      "['0', '0', '0', '0', '0', '0']\n"
     ]
    },
    {
     "data": {
      "text/plain": [
       "['Sunny', 'Warm', 'Normal', 'Strong', 'Warm', 'Same']"
      ]
     },
     "execution_count": 55,
     "metadata": {},
     "output_type": "execute_result"
    }
   ],
   "source": [
    "print(\"\\n The initial value of hypothesis: \")\n",
    "hypothesis = ['0'] * num_attributes\n",
    "print(hypothesis)\n",
    "\n",
    "for j in range(0,num_attributes):\n",
    "    hypothesis[j] = a[0][j] \n",
    "    \n",
    "hypothesis"
   ]
  },
  {
   "cell_type": "code",
   "execution_count": 56,
   "metadata": {},
   "outputs": [
    {
     "data": {
      "text/plain": [
       "True"
      ]
     },
     "execution_count": 56,
     "metadata": {},
     "output_type": "execute_result"
    }
   ],
   "source": [
    "hypothesis == a[0][:-1]"
   ]
  },
  {
   "cell_type": "code",
   "execution_count": 57,
   "metadata": {
    "scrolled": true
   },
   "outputs": [
    {
     "name": "stdout",
     "output_type": "stream",
     "text": [
      "['Sunny', 'Warm', 'Normal', 'Strong', 'Warm', 'Same']\n",
      "\n",
      " Find S: Finding a Maximally Specific Hypothesis\n",
      "\n",
      "Sunny\n",
      "Warm\n",
      "Normal\n",
      "Strong\n",
      "Warm\n",
      "Same\n",
      "\n",
      "For Training instance No:0 the hypothesis is  ['Sunny', 'Warm', 'Normal', 'Strong', 'Warm', 'Same']\n",
      "\n",
      "Sunny\n",
      "Warm\n",
      "High\n",
      "Strong\n",
      "Warm\n",
      "Same\n",
      "\n",
      "For Training instance No:1 the hypothesis is  ['Sunny', 'Warm', '?', 'Strong', 'Warm', 'Same']\n",
      "\n",
      "\n",
      "For Training instance No:2 the hypothesis is  ['Sunny', 'Warm', '?', 'Strong', 'Warm', 'Same']\n",
      "\n",
      "Sunny\n",
      "Warm\n",
      "High\n",
      "Strong\n",
      "Cool\n",
      "Change\n",
      "\n",
      "For Training instance No:3 the hypothesis is  ['Sunny', 'Warm', '?', 'Strong', '?', '?']\n",
      "\n",
      "\n",
      " The Maximally Specific Hypothesis for a given Training Examples :\n",
      "\n",
      "['Sunny', 'Warm', '?', 'Strong', '?', '?']\n"
     ]
    }
   ],
   "source": [
    "print(hypothesis)\n",
    "print(\"\\n Find S: Finding a Maximally Specific Hypothesis\\n\") \n",
    "for i in range(0,len(a)):\n",
    "    if a[i][num_attributes]=='Yes':\n",
    "        for j in range(0,num_attributes):\n",
    "            print(a[i][j])\n",
    "            if a[i][j]!=hypothesis[j]:\n",
    "                hypothesis[j]='?'\n",
    "            else :\n",
    "                hypothesis[j]= a[i][j] \n",
    "    print(\"\\nFor Training instance No:{} the hypothesis is \".format(i),\n",
    "                                                              hypothesis, end='\\n\\n')\n",
    "\n",
    "print(\"\\n The Maximally Specific Hypothesis for a given Training Examples :\\n\")\n",
    "print(hypothesis)"
   ]
  },
  {
   "cell_type": "code",
   "execution_count": 58,
   "metadata": {},
   "outputs": [
    {
     "data": {
      "text/plain": [
       "[['Sunny', 'Warm', 'Normal', 'Strong', 'Warm', 'Same', 'Yes'],\n",
       " ['Sunny', 'Warm', 'High', 'Strong', 'Warm', 'Same', 'Yes'],\n",
       " ['Rainy', 'Cold', 'High', 'Strong', 'Warm', 'Change', 'No'],\n",
       " ['Sunny', 'Warm', 'High', 'Strong', 'Cool', 'Change', 'Yes']]"
      ]
     },
     "execution_count": 58,
     "metadata": {},
     "output_type": "execute_result"
    }
   ],
   "source": [
    "a"
   ]
  },
  {
   "cell_type": "code",
   "execution_count": 100,
   "metadata": {},
   "outputs": [
    {
     "data": {
      "text/html": [
       "<div>\n",
       "<style scoped>\n",
       "    .dataframe tbody tr th:only-of-type {\n",
       "        vertical-align: middle;\n",
       "    }\n",
       "\n",
       "    .dataframe tbody tr th {\n",
       "        vertical-align: top;\n",
       "    }\n",
       "\n",
       "    .dataframe thead th {\n",
       "        text-align: right;\n",
       "    }\n",
       "</style>\n",
       "<table border=\"1\" class=\"dataframe\">\n",
       "  <thead>\n",
       "    <tr style=\"text-align: right;\">\n",
       "      <th></th>\n",
       "      <th>Origin</th>\n",
       "      <th>Manufacturer</th>\n",
       "      <th>Color</th>\n",
       "      <th>Decade</th>\n",
       "      <th>Type</th>\n",
       "      <th>Example Type</th>\n",
       "    </tr>\n",
       "  </thead>\n",
       "  <tbody>\n",
       "    <tr>\n",
       "      <th>0</th>\n",
       "      <td>Japan</td>\n",
       "      <td>Honda</td>\n",
       "      <td>Blue</td>\n",
       "      <td>1980</td>\n",
       "      <td>Economy</td>\n",
       "      <td>Positive</td>\n",
       "    </tr>\n",
       "    <tr>\n",
       "      <th>1</th>\n",
       "      <td>Japan</td>\n",
       "      <td>Toyota</td>\n",
       "      <td>Green</td>\n",
       "      <td>1970</td>\n",
       "      <td>Sports</td>\n",
       "      <td>Negative</td>\n",
       "    </tr>\n",
       "    <tr>\n",
       "      <th>2</th>\n",
       "      <td>Japan</td>\n",
       "      <td>Toyota</td>\n",
       "      <td>Blue</td>\n",
       "      <td>1990</td>\n",
       "      <td>Economy</td>\n",
       "      <td>Positive</td>\n",
       "    </tr>\n",
       "    <tr>\n",
       "      <th>3</th>\n",
       "      <td>USA</td>\n",
       "      <td>Chrysler</td>\n",
       "      <td>Red</td>\n",
       "      <td>1980</td>\n",
       "      <td>Economy</td>\n",
       "      <td>Negative</td>\n",
       "    </tr>\n",
       "    <tr>\n",
       "      <th>4</th>\n",
       "      <td>Japan</td>\n",
       "      <td>Honda</td>\n",
       "      <td>White</td>\n",
       "      <td>1980</td>\n",
       "      <td>Economy</td>\n",
       "      <td>Positive</td>\n",
       "    </tr>\n",
       "    <tr>\n",
       "      <th>5</th>\n",
       "      <td>Japan</td>\n",
       "      <td>Toyota</td>\n",
       "      <td>Green</td>\n",
       "      <td>1980</td>\n",
       "      <td>Economy</td>\n",
       "      <td>Positive</td>\n",
       "    </tr>\n",
       "    <tr>\n",
       "      <th>6</th>\n",
       "      <td>Japan</td>\n",
       "      <td>Honda</td>\n",
       "      <td>Red</td>\n",
       "      <td>1990</td>\n",
       "      <td>Economy</td>\n",
       "      <td>Negative</td>\n",
       "    </tr>\n",
       "  </tbody>\n",
       "</table>\n",
       "</div>"
      ],
      "text/plain": [
       "  Origin Manufacturer  Color Decade     Type Example Type\n",
       "0  Japan        Honda   Blue   1980  Economy     Positive\n",
       "1  Japan       Toyota  Green   1970   Sports     Negative\n",
       "2  Japan       Toyota   Blue   1990  Economy     Positive\n",
       "3    USA     Chrysler    Red   1980  Economy     Negative\n",
       "4  Japan        Honda  White   1980  Economy     Positive\n",
       "5  Japan       Toyota  Green   1980  Economy     Positive\n",
       "6  Japan        Honda    Red   1990  Economy     Negative"
      ]
     },
     "execution_count": 100,
     "metadata": {},
     "output_type": "execute_result"
    }
   ],
   "source": [
    "import pandas as pd\n",
    "\n",
    "Japanese_Economy_Car = {\n",
    "   'Origin':['Japan', 'Japan', 'Japan', 'USA', 'Japan', 'Japan', 'Japan'],\n",
    "   'Manufacturer':['Honda', 'Toyota', 'Toyota', 'Chrysler', 'Honda', 'Toyota', 'Honda'],\n",
    "   'Color':['Blue', 'Green', 'Blue', 'Red', 'White', 'Green', 'Red'],\n",
    "   'Decade':['1980', '1970', '1990', '1980', '1980', '1980', '1990'],\n",
    "   'Type':['Economy', 'Sports', 'Economy', 'Economy', 'Economy', 'Economy', 'Economy'],\n",
    "   'Example Type':['Positive', 'Negative', 'Positive', 'Negative', 'Positive', 'Positive', 'Negative'],\n",
    "        }\n",
    "\n",
    "df = pd.DataFrame(Japanese_Economy_Car, )\n",
    "df"
   ]
  },
  {
   "cell_type": "code",
   "execution_count": 101,
   "metadata": {},
   "outputs": [],
   "source": [
    "df.to_csv('Japanese_Economy_Car.csv', header=True, index=False)"
   ]
  },
  {
   "cell_type": "code",
   "execution_count": 135,
   "metadata": {},
   "outputs": [
    {
     "name": "stdout",
     "output_type": "stream",
     "text": [
      "\n",
      " The Given Training Data Set \n",
      "\n",
      "['Origin', 'Manufacturer', 'Color', 'Decade', 'Type', 'Example Type']\n",
      "['Japan', 'Honda', 'Blue', '1980', 'Economy', 'Positive']\n",
      "['Japan', 'Toyota', 'Green', '1970', 'Sports', 'Negative']\n",
      "['Japan', 'Toyota', 'Blue', '1990', 'Economy', 'Positive']\n",
      "['USA', 'Chrysler', 'Red', '1980', 'Economy', 'Negative']\n",
      "['Japan', 'Honda', 'White', '1980', 'Economy', 'Positive']\n",
      "['Japan', 'Toyota', 'Green', '1980', 'Economy', 'Positive']\n",
      "['Japan', 'Honda', 'Red', '1990', 'Economy', 'Negative']\n"
     ]
    }
   ],
   "source": [
    "import csv\n",
    "num_attributes = 5\n",
    "a = [] \n",
    "print(\"\\n The Given Training Data Set \\n\")\n",
    "\n",
    "with open('Japanese_Economy_Car.csv', 'r') as csvfile:\n",
    "    reader = csv.reader(csvfile)\n",
    "    for row in reader:\n",
    "        a.append(row)\n",
    "        print(row)"
   ]
  },
  {
   "cell_type": "code",
   "execution_count": 139,
   "metadata": {},
   "outputs": [
    {
     "data": {
      "text/plain": [
       "([['Japan', 'Toyota', 'Green', '1970', 'Sports', 'Negative'],\n",
       "  ['Japan', 'Toyota', 'Blue', '1990', 'Economy', 'Positive'],\n",
       "  ['USA', 'Chrysler', 'Red', '1980', 'Economy', 'Negative'],\n",
       "  ['Japan', 'Honda', 'White', '1980', 'Economy', 'Positive'],\n",
       "  ['Japan', 'Toyota', 'Green', '1980', 'Economy', 'Positive'],\n",
       "  ['Japan', 'Honda', 'Red', '1990', 'Economy', 'Negative']],\n",
       " 6)"
      ]
     },
     "execution_count": 139,
     "metadata": {},
     "output_type": "execute_result"
    }
   ],
   "source": [
    "a = a[1:]\n",
    "a, len(a)"
   ]
  },
  {
   "cell_type": "code",
   "execution_count": 137,
   "metadata": {},
   "outputs": [
    {
     "name": "stdout",
     "output_type": "stream",
     "text": [
      "\n",
      " The initial value of hypothesis: \n",
      "['0', '0', '0', '0', '0']\n"
     ]
    },
    {
     "data": {
      "text/plain": [
       "['Japan', 'Honda', 'Blue', '1980', 'Economy']"
      ]
     },
     "execution_count": 137,
     "metadata": {},
     "output_type": "execute_result"
    }
   ],
   "source": [
    "print(\"\\n The initial value of hypothesis: \")\n",
    "hypothesis = ['0'] * num_attributes\n",
    "print(hypothesis)\n",
    "\n",
    "for j in range(0,num_attributes):\n",
    "    hypothesis[j] = a[0][j] \n",
    "    \n",
    "hypothesis"
   ]
  },
  {
   "cell_type": "code",
   "execution_count": 138,
   "metadata": {
    "scrolled": false
   },
   "outputs": [
    {
     "name": "stdout",
     "output_type": "stream",
     "text": [
      "['Japan', 'Honda', 'Blue', '1980', 'Economy']\n",
      "\n",
      " Find S: Finding a Maximally Specific Hypothesis\n",
      "\n",
      "a[0][0]= Japan != Japan -> False\n",
      "a[0][1]= Honda != Honda -> False\n",
      "a[0][2]= Blue != Blue -> False\n",
      "a[0][3]= 1980 != 1980 -> False\n",
      "a[0][4]= Economy != Economy -> False\n",
      "\n",
      "For Training instance No:0 the hypothesis is  ['Japan', 'Honda', 'Blue', '1980', 'Economy']\n",
      "=============================================\n",
      "\n",
      "For Training instance No:1 the hypothesis is  ['Japan', 'Honda', 'Blue', '1980', 'Economy']\n",
      "=============================================\n",
      "a[2][0]= Japan != Japan -> False\n",
      "a[2][1]= Toyota != Honda -> True\n",
      "a[2][2]= Blue != Blue -> False\n",
      "a[2][3]= 1990 != 1980 -> True\n",
      "a[2][4]= Economy != Economy -> False\n",
      "\n",
      "For Training instance No:2 the hypothesis is  ['Japan', '?', 'Blue', '?', 'Economy']\n",
      "=============================================\n",
      "\n",
      "For Training instance No:3 the hypothesis is  ['Japan', '?', 'Blue', '?', 'Economy']\n",
      "=============================================\n",
      "a[4][0]= Japan != Japan -> False\n",
      "a[4][1]= Honda != ? -> True\n",
      "a[4][2]= White != Blue -> True\n",
      "a[4][3]= 1980 != ? -> True\n",
      "a[4][4]= Economy != Economy -> False\n",
      "\n",
      "For Training instance No:4 the hypothesis is  ['Japan', '?', '?', '?', 'Economy']\n",
      "=============================================\n",
      "a[5][0]= Japan != Japan -> False\n",
      "a[5][1]= Toyota != ? -> True\n",
      "a[5][2]= Green != ? -> True\n",
      "a[5][3]= 1980 != ? -> True\n",
      "a[5][4]= Economy != Economy -> False\n",
      "\n",
      "For Training instance No:5 the hypothesis is  ['Japan', '?', '?', '?', 'Economy']\n",
      "=============================================\n",
      "\n",
      "For Training instance No:6 the hypothesis is  ['Japan', '?', '?', '?', 'Economy']\n",
      "=============================================\n",
      "\n",
      " The Maximally Specific Hypothesis for a given Training Examples :\n",
      "\n",
      "['Japan', '?', '?', '?', 'Economy']\n"
     ]
    }
   ],
   "source": [
    "print(hypothesis)\n",
    "print(\"\\n Find S: Finding a Maximally Specific Hypothesis\\n\") \n",
    "\n",
    "for i in range(0,len(a)):\n",
    "    if a[i][num_attributes]=='Positive':\n",
    "        for j in range(0,num_attributes):\n",
    "            print(f'a[{i}][{j}]=', a[i][j], '!=', hypothesis[j], '->', a[i][j]!=hypothesis[j])\n",
    "            if a[i][j]!=hypothesis[j]:\n",
    "                hypothesis[j]='?'\n",
    "            else :\n",
    "                hypothesis[j]= a[i][j] \n",
    "    print(\"\\nFor Training instance No:{} the hypothesis is \".format(i),\n",
    "        hypothesis, end='\\n=============================================\\n')\n",
    "\n",
    "print(\"\\n The Maximally Specific Hypothesis for a given Training Examples :\\n\")\n",
    "print(hypothesis)"
   ]
  },
  {
   "cell_type": "code",
   "execution_count": null,
   "metadata": {},
   "outputs": [],
   "source": []
  },
  {
   "cell_type": "code",
   "execution_count": null,
   "metadata": {},
   "outputs": [],
   "source": []
  },
  {
   "cell_type": "code",
   "execution_count": null,
   "metadata": {},
   "outputs": [],
   "source": []
  }
 ],
 "metadata": {
  "kernelspec": {
   "display_name": "Python 3",
   "language": "python",
   "name": "python3"
  },
  "language_info": {
   "codemirror_mode": {
    "name": "ipython",
    "version": 3
   },
   "file_extension": ".py",
   "mimetype": "text/x-python",
   "name": "python",
   "nbconvert_exporter": "python",
   "pygments_lexer": "ipython3",
   "version": "3.8.3"
  }
 },
 "nbformat": 4,
 "nbformat_minor": 4
}
