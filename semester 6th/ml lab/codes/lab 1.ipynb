{
 "cells": [
  {
   "cell_type": "markdown",
   "metadata": {},
   "source": [
    "# A CSV (comma-separated values) file is a text file that has a specific format which allows data to be saved in a table structured format."
   ]
  },
  {
   "cell_type": "code",
   "execution_count": 13,
   "metadata": {},
   "outputs": [
    {
     "name": "stdout",
     "output_type": "stream",
     "text": [
      "['day', 'outlook', 'temp', 'humidity', 'wind', 'play']\n",
      "['D1', 'Sunny', 'Hot', 'High', 'Weak', 'No']\n",
      "['D2', 'Sunny', 'Hot', 'High', 'Strong', 'No']\n",
      "['D3', 'Overcast', 'Hot', 'High', 'Weak', 'Yes']\n",
      "['D4', 'Rain', 'Mild', 'High', 'Weak', 'Yes']\n",
      "['D5', 'Rain', 'Cool', 'Normal', 'Weak', 'Yes']\n",
      "['D6', 'Rain', 'Cool', 'Normal', 'Strong', 'No']\n",
      "['D7', 'Overcast', 'Cool', 'Normal', 'Strong', 'Yes']\n",
      "['D8', 'Sunny', 'Mild', 'High', 'Weak', 'No']\n",
      "['D9', 'Sunny', 'Cool', 'Normal', 'Weak', 'Yes']\n",
      "['D10', 'Rain', 'Mild', 'Normal', 'Weak', 'Yes']\n",
      "['D11', 'Sunny', 'Mild', 'Normal', 'Strong', 'Yes']\n",
      "['D12', 'Overcast', 'Mild', 'High', 'Strong', 'Yes']\n",
      "['D13', 'Overcast', 'Hot', 'Normal', 'Weak', 'Yes']\n",
      "['D14', 'Rain', 'Mild', 'High', 'Strong', 'No']\n",
      "\n",
      "Most specific hypothesis is\n",
      "[['?', '?', '?', '?', '?', '0']]\n"
     ]
    }
   ],
   "source": [
    "import csv\n",
    "\n",
    "with open('tennis.csv', 'r') as f:\n",
    "    reader = csv.reader(f)\n",
    "    your_list = list(reader)\n",
    "\n",
    "h = [['0', '0', '0', '0', '0', '0']]\n",
    "\n",
    "for i in your_list:\n",
    "    print(i)\n",
    "    if i[-1] == \"Yes\":\n",
    "        j = 0\n",
    "        for x in i:\n",
    "            if x != \"Yes\":\n",
    "                if x != h[0][j] and h[0][j] == '0':\n",
    "                    h[0][j] = x\n",
    "                elif x != h[0][j] and h[0][j] != '0':\n",
    "                    h[0][j] = '?'\n",
    "                else:\n",
    "                    pass\n",
    "            j = j + 1\n",
    "    \n",
    "print(\"\\nMost specific hypothesis is\")\n",
    "print(h)"
   ]
  },
  {
   "cell_type": "code",
   "execution_count": null,
   "metadata": {},
   "outputs": [],
   "source": []
  }
 ],
 "metadata": {
  "kernelspec": {
   "display_name": "Python 3",
   "language": "python",
   "name": "python3"
  },
  "language_info": {
   "codemirror_mode": {
    "name": "ipython",
    "version": 3
   },
   "file_extension": ".py",
   "mimetype": "text/x-python",
   "name": "python",
   "nbconvert_exporter": "python",
   "pygments_lexer": "ipython3",
   "version": "3.8.3"
  }
 },
 "nbformat": 4,
 "nbformat_minor": 4
}
