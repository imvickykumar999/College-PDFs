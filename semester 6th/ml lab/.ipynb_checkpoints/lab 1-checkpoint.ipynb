{
 "cells": [
  {
   "cell_type": "markdown",
   "metadata": {},
   "source": [
    "# A CSV (comma-separated values) file is a text file that has a specific format which allows data to be saved in a table structured format."
   ]
  },
  {
   "cell_type": "code",
   "execution_count": null,
   "metadata": {},
   "outputs": [],
   "source": [
    "import csv\n",
    "\n",
    "with open('tennis.csv', 'r') as f:\n",
    "    reader = csv.reader(f) \\\n",
    "    your_list = list(reader)\n",
    "\n",
    "h = [['0', '0', '0', '0', '0', '0']]\n",
    "\n",
    "for i in your_list:\n",
    "    print(i)\n",
    "if i[-1] == \"True\":\n",
    "    j = 0\n",
    "    for x in i:\n",
    "        if x != \"True\":\n",
    "            if x != h[0][j] and h[0][j] == '0':\n",
    "                h[0][j] = x\n",
    "            elif x != h[0][j] and h[0][j] != '0':\n",
    "                h[0][j] = '?'\n",
    "        else:\n",
    "            pass\n",
    "    j = j + 1\n",
    "    \n",
    "print(\"Most specific hypothesis is\")\n",
    "print(h)"
   ]
  }
 ],
 "metadata": {
  "kernelspec": {
   "display_name": "Python 3",
   "language": "python",
   "name": "python3"
  },
  "language_info": {
   "codemirror_mode": {
    "name": "ipython",
    "version": 3
   },
   "file_extension": ".py",
   "mimetype": "text/x-python",
   "name": "python",
   "nbconvert_exporter": "python",
   "pygments_lexer": "ipython3",
   "version": "3.8.3"
  }
 },
 "nbformat": 4,
 "nbformat_minor": 4
}
