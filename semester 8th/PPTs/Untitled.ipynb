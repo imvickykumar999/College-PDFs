{
 "cells": [
  {
   "cell_type": "code",
   "execution_count": 2,
   "metadata": {},
   "outputs": [
    {
     "data": {
      "text/plain": [
       "['Jack', ['Sean', ['Eric', ['Zyan', ['Nile']]]]]"
      ]
     },
     "execution_count": 2,
     "metadata": {},
     "output_type": "execute_result"
    }
   ],
   "source": [
    "lst_data = [\"Jack\",[\"Sean\",[\"Eric\",[\"Zyan\",[\"Nile\"]]]]]\n",
    "lst_data"
   ]
  },
  {
   "cell_type": "code",
   "execution_count": 3,
   "metadata": {},
   "outputs": [
    {
     "name": "stdout",
     "output_type": "stream",
     "text": [
      "J\n",
      "a\n",
      "c\n",
      "k\n",
      "Sean\n",
      "['Eric', ['Zyan', ['Nile']]]\n"
     ]
    }
   ],
   "source": [
    "for k in lst_data:\n",
    "    for i in k:\n",
    "        print(i) "
   ]
  },
  {
   "cell_type": "code",
   "execution_count": 4,
   "metadata": {},
   "outputs": [
    {
     "name": "stdout",
     "output_type": "stream",
     "text": [
      "\n",
      "Value is Not Matched...\n",
      "\n",
      "Value is Not Matched...\n"
     ]
    }
   ],
   "source": [
    "for k in lst_data:\n",
    "    \n",
    "    if k == \"Eric\":\n",
    "        print(k)\n",
    "    else:\n",
    "        print(\"\\nValue is Not Matched...\")"
   ]
  },
  {
   "cell_type": "code",
   "execution_count": 5,
   "metadata": {},
   "outputs": [
    {
     "data": {
      "text/plain": [
       "range(0, 5)"
      ]
     },
     "execution_count": 5,
     "metadata": {},
     "output_type": "execute_result"
    }
   ],
   "source": [
    "range(5)"
   ]
  },
  {
   "cell_type": "code",
   "execution_count": 6,
   "metadata": {},
   "outputs": [
    {
     "name": "stdout",
     "output_type": "stream",
     "text": [
      "a\n"
     ]
    }
   ],
   "source": [
    "for i in 'a':\n",
    "    print(i)"
   ]
  },
  {
   "cell_type": "code",
   "execution_count": 7,
   "metadata": {},
   "outputs": [
    {
     "name": "stdout",
     "output_type": "stream",
     "text": [
      "Sean\n",
      "['Eric', ['Zyan', ['Nile']]]\n"
     ]
    }
   ],
   "source": [
    "for i in ['Sean', ['Eric', ['Zyan', ['Nile']]]]:\n",
    "    print(i)"
   ]
  },
  {
   "cell_type": "code",
   "execution_count": 8,
   "metadata": {},
   "outputs": [
    {
     "name": "stdout",
     "output_type": "stream",
     "text": [
      "Eric\n",
      "['Zyan', ['Nile']]\n"
     ]
    }
   ],
   "source": [
    "for i in ['Eric', ['Zyan', ['Nile']]]:\n",
    "    print(i)"
   ]
  },
  {
   "cell_type": "code",
   "execution_count": 13,
   "metadata": {},
   "outputs": [
    {
     "name": "stdout",
     "output_type": "stream",
     "text": [
      "Name\n",
      "Age\n"
     ]
    }
   ],
   "source": [
    "data = {\"Name\":\"Sean\",\"Age\":25}\n",
    "for k in data.keys():\n",
    "    print(k)"
   ]
  },
  {
   "cell_type": "code",
   "execution_count": 11,
   "metadata": {},
   "outputs": [
    {
     "data": {
      "text/plain": [
       "dict_keys(['Name', 'Age'])"
      ]
     },
     "execution_count": 11,
     "metadata": {},
     "output_type": "execute_result"
    }
   ],
   "source": [
    "data.keys()"
   ]
  },
  {
   "cell_type": "code",
   "execution_count": 14,
   "metadata": {},
   "outputs": [
    {
     "name": "stdout",
     "output_type": "stream",
     "text": [
      "Name\n",
      "Age\n"
     ]
    }
   ],
   "source": [
    "data = {\"Name\":\"Sean\",\"Age\":25}\n",
    "for k in data:\n",
    "    print(k)"
   ]
  },
  {
   "cell_type": "code",
   "execution_count": 15,
   "metadata": {},
   "outputs": [
    {
     "name": "stdout",
     "output_type": "stream",
     "text": [
      "\n",
      "Enter The Stud Name :Henry\n",
      "Henry is not in databse..\n",
      "Henry is not in databse..\n",
      "The Marks of Henry is : 220\n",
      "Henry is not in databse..\n",
      "Henry is not in databse..\n"
     ]
    }
   ],
   "source": [
    "stud_marks = {\"Sean\":250,\"Mark\":200,\"Henry\":220,\"Nile\":200,\"Keren\":290}\n",
    "\n",
    "stud_name = input(\"\\nEnter The Stud Name :\")\n",
    "\n",
    "for k in stud_marks:\n",
    "    \n",
    "    if stud_name == k:\n",
    "        \n",
    "        print(\"The Marks of\",k,\"is :\",stud_marks[k])\n",
    "        \n",
    "    else:\n",
    "        print(stud_name,\"is not in databse..\")"
   ]
  },
  {
   "cell_type": "code",
   "execution_count": 16,
   "metadata": {},
   "outputs": [
    {
     "data": {
      "text/plain": [
       "dict_items([('Sean', 250), ('Mark', 200), ('Henry', 220), ('Nile', 200), ('Keren', 290)])"
      ]
     },
     "execution_count": 16,
     "metadata": {},
     "output_type": "execute_result"
    }
   ],
   "source": [
    "stud_marks.items()"
   ]
  },
  {
   "cell_type": "code",
   "execution_count": 17,
   "metadata": {},
   "outputs": [
    {
     "name": "stdout",
     "output_type": "stream",
     "text": [
      "\n",
      "Enter The Stud Name :Henry\n",
      "Henry is not in databse..\n",
      "Henry is not in databse..\n",
      "\n",
      "The Marks of Henry is : 220\n"
     ]
    }
   ],
   "source": [
    "stud_marks = {\"Sean\":250,\"Mark\":200,\"Henry\":220,\"Nile\":200,\"Keren\":290}\n",
    "\n",
    "stud_name = input(\"\\nEnter The Stud Name :\")\n",
    "\n",
    "for k in stud_marks:\n",
    "    \n",
    "    if stud_name == k:\n",
    "        \n",
    "        print(\"\\nThe Marks of\",k,\"is :\",stud_marks[k])\n",
    "        \n",
    "        break\n",
    "        \n",
    "    else:\n",
    "        print(stud_name,\"is not in databse..\")"
   ]
  },
  {
   "cell_type": "code",
   "execution_count": 20,
   "metadata": {},
   "outputs": [
    {
     "name": "stdout",
     "output_type": "stream",
     "text": [
      "\n",
      "Enter The Stud Name :Henry\n",
      " \n",
      "Henry is not in databse..\n",
      " \n",
      "Henry is not in databse..\n",
      "\n",
      "The Marks of Henry is : 220\n"
     ]
    }
   ],
   "source": [
    "stud_marks = {\"Sean\":250,\"Mark\":200,\"Henry\":220,\"Nile\":200,\"Keren\":290}\n",
    "\n",
    "stud_name = input(\"\\nEnter The Stud Name :\")\n",
    "\n",
    "for k in stud_marks:\n",
    "    \n",
    "    if stud_name == k:\n",
    "        \n",
    "        print(\"\\nThe Marks of\",k,\"is :\",stud_marks[k])\n",
    "        \n",
    "        break\n",
    "        \n",
    "    else:\n",
    "        print(\" \")\n",
    "        print(stud_name,\"is not in databse..\")\n",
    "#         break"
   ]
  },
  {
   "cell_type": "code",
   "execution_count": null,
   "metadata": {},
   "outputs": [],
   "source": []
  }
 ],
 "metadata": {
  "kernelspec": {
   "display_name": "Python 3",
   "language": "python",
   "name": "python3"
  },
  "language_info": {
   "codemirror_mode": {
    "name": "ipython",
    "version": 3
   },
   "file_extension": ".py",
   "mimetype": "text/x-python",
   "name": "python",
   "nbconvert_exporter": "python",
   "pygments_lexer": "ipython3",
   "version": "3.8.3"
  }
 },
 "nbformat": 4,
 "nbformat_minor": 4
}
